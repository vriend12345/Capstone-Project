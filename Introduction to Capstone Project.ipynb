{
 "cells": [
  {
   "cell_type": "markdown",
   "metadata": {},
   "source": [
    "# Introduction to Capstone Project"
   ]
  },
  {
   "cell_type": "markdown",
   "metadata": {},
   "source": [
    "# Finding best locations for an advertisement campaign in Istanbul, Turkey"
   ]
  },
  {
   "cell_type": "markdown",
   "metadata": {},
   "source": [
    "## The Description of the Problem\n",
    "**ABC Limited** is a touristic company in Istanbul, Turkey. It wants to start an advertisement campaign for its touristic tours targeting the tourists in Istanbul traveling without a previously arranged tour programs. \n",
    "\n",
    "Its budget can cover the advertisements in only limited areas.  We want to use the spatial data for Istanbul City and analyze it in order to infer the three most populated neighborhoods by tourists, that contain tourists who are willing to pay for the tours.\n"
   ]
  },
  {
   "cell_type": "markdown",
   "metadata": {},
   "source": [
    "## The Description of the Data and how it will be used to solve the problem\n",
    "We will use the data from “Inside Airbnb site” which is sourced from publicly available information from the “Airbnb site”.   \n",
    "http://insideairbnb.com/get-the-data.html  \n",
    "We can find the detailed listings data for Istanbul in “Inside Airbnb site” from the link:  \n",
    "http://data.insideairbnb.com/turkey/marmara/istanbul/2018-11-21/data/listings.csv.gz  \n",
    "\n",
    "Using Airbnb listing data rather hotels listing data has an advantage that most of the hotels’ clients are coming to Istanbul in groups with pre-arranged tour programs, where as the clients of Airbnb are usually arranging their own travels, accommodations, tour programs.\n",
    "We want to choose the five most prominent zipcodes of the most populated neighborhood by tourists, based on the distributions of the Airbnb properties and the per-night prices of them. \n"
   ]
  },
  {
   "cell_type": "code",
   "execution_count": null,
   "metadata": {},
   "outputs": [],
   "source": []
  }
 ],
 "metadata": {
  "kernelspec": {
   "display_name": "Python 3",
   "language": "python",
   "name": "python3"
  },
  "language_info": {
   "codemirror_mode": {
    "name": "ipython",
    "version": 3
   },
   "file_extension": ".py",
   "mimetype": "text/x-python",
   "name": "python",
   "nbconvert_exporter": "python",
   "pygments_lexer": "ipython3",
   "version": "3.7.1"
  }
 },
 "nbformat": 4,
 "nbformat_minor": 2
}
